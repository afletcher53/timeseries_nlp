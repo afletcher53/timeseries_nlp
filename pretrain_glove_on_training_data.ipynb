{
 "cells": [
  {
   "cell_type": "code",
   "execution_count": 2,
   "metadata": {},
   "outputs": [
    {
     "name": "stdout",
     "output_type": "stream",
     "text": [
      "Requirement already satisfied: mittens in /home/aaron/anaconda3/envs/tf-gpu/lib/python3.9/site-packages (0.2)\n",
      "Requirement already satisfied: numpy in /home/aaron/anaconda3/envs/tf-gpu/lib/python3.9/site-packages (from mittens) (1.23.0)\n"
     ]
    }
   ],
   "source": [
    "!pip install mittens\n"
   ]
  },
  {
   "cell_type": "code",
   "execution_count": 3,
   "metadata": {},
   "outputs": [
    {
     "name": "stderr",
     "output_type": "stream",
     "text": [
      "2022-07-23 22:14:57.968757: W tensorflow/stream_executor/platform/default/dso_loader.cc:64] Could not load dynamic library 'libcudart.so.11.0'; dlerror: libcudart.so.11.0: cannot open shared object file: No such file or directory\n",
      "2022-07-23 22:14:57.968783: I tensorflow/stream_executor/cuda/cudart_stub.cc:29] Ignore above cudart dlerror if you do not have a GPU set up on your machine.\n",
      "/home/aaron/anaconda3/envs/tf-gpu/lib/python3.9/site-packages/scipy/__init__.py:146: UserWarning: A NumPy version >=1.16.5 and <1.23.0 is required for this version of SciPy (detected version 1.23.0\n",
      "  warnings.warn(f\"A NumPy version >={np_minversion} and <{np_maxversion}\"\n"
     ]
    }
   ],
   "source": [
    "import tqdm\n",
    "import tensorflow as tf\n",
    "import numpy as np\n",
    "import tqdm\n",
    "import pickle\n",
    "import numpy\n",
    "import os\n",
    "import csv\n",
    "from mittens import Mittens\n",
    "from sklearn.feature_extraction import _stop_words\n",
    "from sklearn.feature_extraction.text import CountVectorizer\n",
    "from scipy import spatial \n"
   ]
  },
  {
   "cell_type": "code",
   "execution_count": 4,
   "metadata": {},
   "outputs": [],
   "source": [
    "%run constants.py\n",
    "tf.random.set_seed(\n",
    "    SEED\n",
    ")\n",
    "np.random.seed(SEED)"
   ]
  },
  {
   "cell_type": "code",
   "execution_count": 5,
   "metadata": {},
   "outputs": [],
   "source": [
    "with open(X_TRAIN_INPUT_SAVE_FILE_PRE_VEC, \"rb\") as f:\n",
    "        x_train = pickle.load(f)\n",
    "with open(VOCAB_SAVE_FILE, \"rb\") as f:\n",
    "        vocab = pickle.load(f)"
   ]
  },
  {
   "cell_type": "code",
   "execution_count": 6,
   "metadata": {},
   "outputs": [],
   "source": [
    "def get_embedding_index():\n",
    "    embeddings_index = {}\n",
    "\n",
    "    f = open(GLOVE_300D_FILEPATH)\n",
    "    for line in tqdm.tqdm(f, ncols=100, desc=\"Loading Glove Embeddings.\"):\n",
    "        values = line.split()\n",
    "        word = values[0]\n",
    "        coefs = numpy.asarray(values[1:], dtype=\"float32\")\n",
    "        embeddings_index[word] = coefs\n",
    "    f.close()\n",
    "\n",
    "    return embeddings_index"
   ]
  },
  {
   "cell_type": "code",
   "execution_count": 7,
   "metadata": {},
   "outputs": [
    {
     "name": "stderr",
     "output_type": "stream",
     "text": [
      "Loading Glove Embeddings.: 400000it [00:15, 25602.81it/s]\n"
     ]
    }
   ],
   "source": [
    "ei = get_embedding_index()"
   ]
  },
  {
   "cell_type": "code",
   "execution_count": null,
   "metadata": {},
   "outputs": [],
   "source": [
    "train_corpora = x_train[29].str.split()\n",
    "train_corpora = train_corpora.tolist()\n",
    "flat_list_train_corpora = [x for xs in train_corpora for x in xs]\n",
    "flat_list_train_corpora = list(set(flat_list_train_corpora))\n",
    "flat_list_train_corpora\n",
    "\n",
    "a = [flat_list_train_corpora.lower() for x in flat_list_train_corpora]\n",
    "a"
   ]
  },
  {
   "cell_type": "code",
   "execution_count": null,
   "metadata": {},
   "outputs": [],
   "source": [
    "\n",
    "def glove2dict(glove_filename):\n",
    "    with open(glove_filename, encoding='utf-8') as f:\n",
    "        reader = csv.reader(f, delimiter=' ', quoting=csv.QUOTE_NONE)\n",
    "        embed = {line[0]: np.array(list(map(float, line[1:])))\n",
    "                for line in reader}\n",
    "    return embed\n",
    "\n",
    "\n",
    "pre_glove = glove2dict(GLOVE_300D_FILEPATH)\n",
    "sw = list(_stop_words.ENGLISH_STOP_WORDS)\n",
    "train_corpora_for_glove = [token.lower() for token in flat_list_train_corpora if (token.lower() not in sw)]\n",
    "oov = [token for token in train_corpora_for_glove if token not in pre_glove.keys()]\n",
    "\n",
    "corp_vocab = list(set(oov))\n",
    "brown_doc = [' '.join(train_corpora_for_glove)]\n",
    "\n",
    "cv = CountVectorizer(ngram_range=(1,1), vocabulary=corp_vocab)\n",
    "X = cv.fit_transform(brown_doc)\n",
    "Xc = (X.T * X)\n",
    "Xc.setdiag(0)\n",
    "coocc_ar = Xc.toarray()\n",
    "\n",
    "mittens_model = Mittens(n=EMBEDDING_DIM, max_iter=10000)\n",
    "\n",
    "new_embeddings = mittens_model.fit(\n",
    "    coocc_ar,\n",
    "    vocab=corp_vocab,\n",
    "    initial_embedding_dict= pre_glove)\n",
    "\n",
    "newglove = dict(zip(corp_vocab, new_embeddings))\n"
   ]
  },
  {
   "cell_type": "code",
   "execution_count": null,
   "metadata": {},
   "outputs": [],
   "source": [
    "new_glove_merged = newglove | ei\n",
    "len(new_glove_merged)"
   ]
  },
  {
   "cell_type": "code",
   "execution_count": null,
   "metadata": {},
   "outputs": [],
   "source": [
    "try:\n",
    "    os.remove(FINE_TUNED_GLOVE_300D_FILEPATH)\n",
    "except OSError:\n",
    "    pass\n",
    "with open(FINE_TUNED_GLOVE_300D_FILEPATH, \"w\") as file:\n",
    "    for k, v in new_glove_merged.items():\n",
    "        dimensions = \"\"\n",
    "        for x in v:\n",
    "            dimensions += str(x) + \" \"\n",
    "        glove_line = k + \" \" + dimensions\n",
    "        file.write(glove_line)"
   ]
  },
  {
   "cell_type": "code",
   "execution_count": null,
   "metadata": {},
   "outputs": [],
   "source": [
    "\n",
    "def find_closest_embeddings(embedding_index, embedding): \n",
    "    return sorted(embedding_index.keys(), key=lambda word: spatial.distance.euclidean(embedding_index[word], embedding))"
   ]
  },
  {
   "cell_type": "code",
   "execution_count": null,
   "metadata": {},
   "outputs": [],
   "source": [
    "find_closest_embeddings(new_glove_merged, new_glove_merged['libstdc'])[0:10]"
   ]
  },
  {
   "cell_type": "code",
   "execution_count": null,
   "metadata": {},
   "outputs": [],
   "source": [
    "#Should fail - as libstdc is NOT in the original glove matrix\n",
    "find_closest_embeddings(ei, ei['libstdc'])[0:10]"
   ]
  }
 ],
 "metadata": {
  "kernelspec": {
   "display_name": "Python 3.9.12 ('tf-gpu': conda)",
   "language": "python",
   "name": "python3"
  },
  "language_info": {
   "codemirror_mode": {
    "name": "ipython",
    "version": 3
   },
   "file_extension": ".py",
   "mimetype": "text/x-python",
   "name": "python",
   "nbconvert_exporter": "python",
   "pygments_lexer": "ipython3",
   "version": "3.9.12"
  },
  "vscode": {
   "interpreter": {
    "hash": "9006886ed9af46a1631a39384ef7a28ca1cf375f950361012be59baffb3e715d"
   }
  }
 },
 "nbformat": 4,
 "nbformat_minor": 2
}
