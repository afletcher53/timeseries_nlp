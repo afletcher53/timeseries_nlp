{
 "cells": [
  {
   "cell_type": "code",
   "execution_count": 1,
   "metadata": {},
   "outputs": [],
   "source": [
    "import tensorflow as tf\n",
    "import numpy\n",
    "import pickle\n",
    "from keras.layers import (\n",
    "    Input,\n",
    "    TimeDistributed,\n",
    "    LSTM,\n",
    "    Dense,\n",
    "    Input,\n",
    "    Dense,\n",
    "    Conv1D,\n",
    "    Flatten, \n",
    "    Embedding,\n",
    "\n",
    "    \n",
    "    Dropout)\n",
    "from keras import Model\n",
    "import keras\n",
    "%run constants.py"
   ]
  },
  {
   "cell_type": "code",
   "execution_count": 2,
   "metadata": {},
   "outputs": [],
   "source": [
    "#Dataset Prep\n",
    "with open(X_TRAIN_SINGLE_TIMESTEP_RAW, \"rb\") as f:\n",
    "        x_train = pickle.load(f)\n",
    "with open(Y_TRAIN_INPUT_SAVE_FILE, \"rb\") as f:\n",
    "        y_train = pickle.load(f)\n",
    "\n",
    "with open(X_VAL_SINGLE_TIMESTEP_RAW, \"rb\") as f:\n",
    "        x_val = pickle.load(f)\n",
    "with open(Y_VAL_INPUT_SAVE_FILE, \"rb\") as f:\n",
    "        y_val = pickle.load(f)\n",
    "\n",
    "with open(X_TEST_SINGLE_TIMESTEP_RAW, \"rb\") as f:\n",
    "        x_test = pickle.load(f)\n",
    "with open(Y_TEST_INPUT_SAVE_FILE, \"rb\") as f:\n",
    "        y_test = pickle.load(f)\n",
    "\n",
    "x_test_one_timestep = numpy.array(x_test)\n",
    "x_train_one_timestep = numpy.array(x_train)\n",
    "x_val_one_timestep = numpy.array(x_val)"
   ]
  },
  {
   "cell_type": "code",
   "execution_count": 3,
   "metadata": {},
   "outputs": [
    {
     "name": "stderr",
     "output_type": "stream",
     "text": [
      "2022-07-24 15:05:19.018564: I tensorflow/core/platform/cpu_feature_guard.cc:193] This TensorFlow binary is optimized with oneAPI Deep Neural Network Library (oneDNN) to use the following CPU instructions in performance-critical operations:  AVX2 FMA\n",
      "To enable them in other operations, rebuild TensorFlow with the appropriate compiler flags.\n",
      "2022-07-24 15:05:19.953884: I tensorflow/core/common_runtime/gpu/gpu_device.cc:1532] Created device /job:localhost/replica:0/task:0/device:GPU:0 with 6672 MB memory:  -> device: 0, name: GeForce RTX 2070, pci bus id: 0000:03:00.0, compute capability: 7.5\n",
      "2022-07-24 15:05:19.954729: I tensorflow/core/common_runtime/gpu/gpu_device.cc:1532] Created device /job:localhost/replica:0/task:0/device:GPU:1 with 6671 MB memory:  -> device: 1, name: GeForce RTX 2070, pci bus id: 0000:04:00.0, compute capability: 7.5\n"
     ]
    }
   ],
   "source": [
    "\n",
    "flat_list_train_corpora = [x for xs in x_train for x in xs]\n",
    "flat_list_train_corpora = list(set(flat_list_train_corpora))\n",
    "from keras.layers import TextVectorization\n",
    "\n",
    "def create_textvectorisation(lst):\n",
    "    text_vectorization: TextVectorization = TextVectorization(\n",
    "        output_mode=\"int\",\n",
    "        split=\"whitespace\",\n",
    "        max_tokens=MAX_VOCAB_SIZE,\n",
    "        output_sequence_length=MAX_SEQUENCE_LENGTH,\n",
    "    )\n",
    "    text_vectorization.adapt(lst)\n",
    "    return text_vectorization\n",
    "\n",
    "\n",
    "text_vectorization = create_textvectorisation(flat_list_train_corpora)\n",
    "\n"
   ]
  },
  {
   "cell_type": "code",
   "execution_count": 4,
   "metadata": {},
   "outputs": [],
   "source": [
    "\n",
    "x_test_one_timestep_vec = text_vectorization(x_test_one_timestep)\n",
    "x_train_one_timestep_vec = text_vectorization(x_train_one_timestep)\n",
    "x_val_one_timestep_vec = text_vectorization(x_val_one_timestep)"
   ]
  },
  {
   "cell_type": "code",
   "execution_count": 5,
   "metadata": {},
   "outputs": [],
   "source": [
    "with open(EMBEDDING_MATRIX_SAVE_FILE, \"rb\") as f:\n",
    "        embedding_matrix = pickle.load(f)\n",
    "embedding_layer = Embedding(input_dim=MAX_VOCAB_SIZE, output_dim=EMBEDDING_DIM, input_length=MAX_SEQUENCE_LENGTH, weights = [embedding_matrix], trainable=False)"
   ]
  },
  {
   "cell_type": "code",
   "execution_count": 6,
   "metadata": {},
   "outputs": [],
   "source": [
    "def lstm_model():\n",
    "\n",
    "  X_indices = Input(shape=(MAX_SEQUENCE_LENGTH,))\n",
    "\n",
    "  embeddings = embedding_layer(X_indices)\n",
    "\n",
    "  X = LSTM(128, return_sequences=True)(embeddings)\n",
    "\n",
    "  X = Dropout(0.6)(X)\n",
    "\n",
    "  X = LSTM(128, return_sequences=True)(X)\n",
    "\n",
    "  X = Dropout(0.6)(X)\n",
    "\n",
    "  X = LSTM(128)(X)\n",
    "\n",
    "  X = Dense(1, activation='sigmoid')(X)\n",
    "\n",
    "  model = Model(inputs=X_indices, outputs=X)\n",
    "\n",
    "  return model"
   ]
  },
  {
   "cell_type": "code",
   "execution_count": 14,
   "metadata": {},
   "outputs": [],
   "source": [
    "NUM_EPOCHS = 30"
   ]
  },
  {
   "cell_type": "code",
   "execution_count": 17,
   "metadata": {},
   "outputs": [
    {
     "name": "stdout",
     "output_type": "stream",
     "text": [
      "Epoch 1/30\n",
      "78/78 [==============================] - 9s 59ms/step - loss: 0.6928 - binary_accuracy: 0.5513 - val_loss: 0.6916 - val_binary_accuracy: 0.6058\n",
      "Epoch 2/30\n",
      "78/78 [==============================] - 4s 46ms/step - loss: 0.6912 - binary_accuracy: 0.5558 - val_loss: 0.6866 - val_binary_accuracy: 0.5876\n",
      "Epoch 3/30\n",
      "78/78 [==============================] - 4s 48ms/step - loss: 0.6877 - binary_accuracy: 0.5562 - val_loss: 0.6832 - val_binary_accuracy: 0.5803\n",
      "Epoch 4/30\n",
      "78/78 [==============================] - 4s 48ms/step - loss: 0.6865 - binary_accuracy: 0.5566 - val_loss: 0.6823 - val_binary_accuracy: 0.5839\n",
      "Epoch 5/30\n",
      "78/78 [==============================] - 4s 47ms/step - loss: 0.6861 - binary_accuracy: 0.5606 - val_loss: 0.6828 - val_binary_accuracy: 0.5912\n",
      "Epoch 6/30\n",
      "78/78 [==============================] - 4s 47ms/step - loss: 0.6861 - binary_accuracy: 0.5602 - val_loss: 0.6880 - val_binary_accuracy: 0.5803\n",
      "Epoch 7/30\n",
      "78/78 [==============================] - 4s 48ms/step - loss: 0.6866 - binary_accuracy: 0.5631 - val_loss: 0.6821 - val_binary_accuracy: 0.5876\n",
      "Epoch 8/30\n",
      "78/78 [==============================] - 4s 47ms/step - loss: 0.6848 - binary_accuracy: 0.5635 - val_loss: 0.6914 - val_binary_accuracy: 0.5912\n",
      "Epoch 9/30\n",
      "78/78 [==============================] - 4s 47ms/step - loss: 0.6841 - binary_accuracy: 0.5684 - val_loss: 0.6823 - val_binary_accuracy: 0.5985\n",
      "Epoch 10/30\n",
      "78/78 [==============================] - 4s 47ms/step - loss: 0.6837 - binary_accuracy: 0.5647 - val_loss: 0.6890 - val_binary_accuracy: 0.5912\n",
      "Epoch 11/30\n",
      "78/78 [==============================] - 4s 48ms/step - loss: 0.6799 - binary_accuracy: 0.5753 - val_loss: 0.6797 - val_binary_accuracy: 0.5985\n",
      "Epoch 12/30\n",
      "78/78 [==============================] - 4s 48ms/step - loss: 0.6789 - binary_accuracy: 0.5757 - val_loss: 0.6822 - val_binary_accuracy: 0.6058\n",
      "Epoch 13/30\n",
      "78/78 [==============================] - 4s 46ms/step - loss: 0.6798 - binary_accuracy: 0.5736 - val_loss: 0.6751 - val_binary_accuracy: 0.6022\n",
      "Epoch 14/30\n",
      "78/78 [==============================] - 4s 47ms/step - loss: 0.6818 - binary_accuracy: 0.5712 - val_loss: 0.6849 - val_binary_accuracy: 0.5912\n",
      "Epoch 15/30\n",
      "78/78 [==============================] - 4s 47ms/step - loss: 0.6758 - binary_accuracy: 0.5761 - val_loss: 0.6774 - val_binary_accuracy: 0.5985\n",
      "Epoch 16/30\n",
      "78/78 [==============================] - 4s 47ms/step - loss: 0.6745 - binary_accuracy: 0.5793 - val_loss: 0.6809 - val_binary_accuracy: 0.5912\n",
      "Epoch 17/30\n",
      "78/78 [==============================] - 4s 48ms/step - loss: 0.6747 - binary_accuracy: 0.5797 - val_loss: 0.6767 - val_binary_accuracy: 0.5949\n",
      "Epoch 18/30\n",
      "78/78 [==============================] - 4s 48ms/step - loss: 0.6750 - binary_accuracy: 0.5817 - val_loss: 0.6936 - val_binary_accuracy: 0.5365\n",
      "Epoch 19/30\n",
      "78/78 [==============================] - 4s 47ms/step - loss: 0.6734 - binary_accuracy: 0.5801 - val_loss: 0.6792 - val_binary_accuracy: 0.6058\n",
      "Epoch 20/30\n",
      "78/78 [==============================] - 4s 48ms/step - loss: 0.6704 - binary_accuracy: 0.5874 - val_loss: 0.6757 - val_binary_accuracy: 0.6022\n",
      "Epoch 21/30\n",
      "78/78 [==============================] - 4s 48ms/step - loss: 0.6805 - binary_accuracy: 0.5740 - val_loss: 0.6833 - val_binary_accuracy: 0.5949\n",
      "Epoch 22/30\n",
      "78/78 [==============================] - 4s 47ms/step - loss: 0.6791 - binary_accuracy: 0.5732 - val_loss: 0.6801 - val_binary_accuracy: 0.5876\n",
      "Epoch 23/30\n",
      "78/78 [==============================] - 4s 47ms/step - loss: 0.6744 - binary_accuracy: 0.5838 - val_loss: 0.6801 - val_binary_accuracy: 0.6022\n",
      "Epoch 24/30\n",
      "78/78 [==============================] - 4s 48ms/step - loss: 0.6765 - binary_accuracy: 0.5732 - val_loss: 0.6814 - val_binary_accuracy: 0.6058\n",
      "Epoch 25/30\n",
      "78/78 [==============================] - 4s 47ms/step - loss: 0.6689 - binary_accuracy: 0.5955 - val_loss: 0.6790 - val_binary_accuracy: 0.5912\n",
      "Epoch 26/30\n",
      "78/78 [==============================] - 4s 47ms/step - loss: 0.6676 - binary_accuracy: 0.5984 - val_loss: 0.6727 - val_binary_accuracy: 0.6131\n",
      "Epoch 27/30\n",
      "78/78 [==============================] - 4s 48ms/step - loss: 0.6723 - binary_accuracy: 0.5769 - val_loss: 0.6782 - val_binary_accuracy: 0.6022\n",
      "Epoch 28/30\n",
      "78/78 [==============================] - 4s 48ms/step - loss: 0.6667 - binary_accuracy: 0.5939 - val_loss: 0.6893 - val_binary_accuracy: 0.5401\n",
      "Epoch 29/30\n",
      "78/78 [==============================] - 4s 49ms/step - loss: 0.6668 - binary_accuracy: 0.6016 - val_loss: 0.6759 - val_binary_accuracy: 0.5949\n",
      "Epoch 30/30\n",
      "78/78 [==============================] - 4s 47ms/step - loss: 0.6616 - binary_accuracy: 0.5907 - val_loss: 0.6735 - val_binary_accuracy: 0.6168\n"
     ]
    }
   ],
   "source": [
    "import tensorflow_models as tfm\n",
    "train_data_size =  len(x_train)\n",
    "steps_per_epoch = int(train_data_size / BATCH_SIZE)\n",
    "num_train_steps = steps_per_epoch * NUM_EPOCHS\n",
    "warmup_steps = int(0.1 * num_train_steps)\n",
    "initial_learning_rate=2e-4\n",
    "\n",
    "linear_decay = tf.keras.optimizers.schedules.PolynomialDecay(\n",
    "    initial_learning_rate=initial_learning_rate,\n",
    "    end_learning_rate=0,\n",
    "    decay_steps=num_train_steps)\n",
    "\n",
    "warmup_schedule = tfm.optimization.lr_schedule.LinearWarmup(\n",
    "    warmup_learning_rate = 0,\n",
    "    after_warmup_lr_sched = linear_decay,\n",
    "    warmup_steps = warmup_steps\n",
    ")\n",
    "\n",
    "optimizer = tf.keras.optimizers.experimental.Adam(\n",
    "    learning_rate = warmup_schedule)\n",
    "\n",
    "loss = tf.keras.losses.BinaryCrossentropy()\n",
    "metrics = tf.metrics.BinaryAccuracy()\n",
    "\n",
    "model = lstm_model()\n",
    "adam = keras.optimizers.Adam(learning_rate = 0.0001)\n",
    "\n",
    "model.compile(optimizer=optimizer,\n",
    "                         loss=loss,\n",
    "                         metrics=metrics)\n",
    "\n",
    "history = model.fit(x=x_train_one_timestep_vec, y=y_train,\n",
    "                                validation_data = (x_val_one_timestep_vec, y_val),\n",
    "                               epochs=NUM_EPOCHS)"
   ]
  },
  {
   "cell_type": "code",
   "execution_count": 18,
   "metadata": {},
   "outputs": [
    {
     "name": "stdout",
     "output_type": "stream",
     "text": [
      "22/22 [==============================] - 0s 19ms/step - loss: 0.6675 - binary_accuracy: 0.5927\n",
      "Loss: 0.6675203442573547\n",
      "Accuracy: 0.592700719833374\n"
     ]
    }
   ],
   "source": [
    "\n",
    "loss, accuracy = model.evaluate(x= x_test_one_timestep_vec, y= y_test)\n",
    "print(f'Loss: {loss}')\n",
    "print(f'Accuracy: {accuracy}')"
   ]
  },
  {
   "cell_type": "code",
   "execution_count": 19,
   "metadata": {},
   "outputs": [
    {
     "name": "stdout",
     "output_type": "stream",
     "text": [
      "dict_keys(['loss', 'binary_accuracy', 'val_loss', 'val_binary_accuracy'])\n"
     ]
    },
    {
     "data": {
      "text/plain": [
       "<matplotlib.legend.Legend at 0x7fa7945347c0>"
      ]
     },
     "execution_count": 19,
     "metadata": {},
     "output_type": "execute_result"
    },
    {
     "data": {
      "image/png": "[encoded data removed]",
      "text/plain": [
       "<Figure size 720x432 with 2 Axes>"
      ]
     },
     "metadata": {
      "needs_background": "light"
     },
     "output_type": "display_data"
    }
   ],
   "source": [
    "import matplotlib.pyplot as plt\n",
    "\n",
    "history_dict = history.history\n",
    "print(history_dict.keys())\n",
    "\n",
    "acc = history_dict['binary_accuracy']\n",
    "val_acc = history_dict['val_binary_accuracy']\n",
    "loss = history_dict['loss']\n",
    "val_loss = history_dict['val_loss']\n",
    "\n",
    "epochs = range(1, len(acc) + 1)\n",
    "fig = plt.figure(figsize=(10, 6))\n",
    "fig.tight_layout()\n",
    "\n",
    "plt.subplot(2, 1, 1)\n",
    "# r is for \"solid red line\"\n",
    "plt.plot(epochs, loss, 'r', label='Training loss')\n",
    "# b is for \"solid blue line\"\n",
    "plt.plot(epochs, val_loss, 'b', label='Validation loss')\n",
    "plt.title('Training and validation loss')\n",
    "# plt.xlabel('Epochs')\n",
    "plt.ylabel('Loss')\n",
    "plt.legend()\n",
    "\n",
    "plt.subplot(2, 1, 2)\n",
    "plt.plot(epochs, acc, 'r', label='Training acc')\n",
    "plt.plot(epochs, val_acc, 'b', label='Validation acc')\n",
    "plt.title('Training and validation accuracy')\n",
    "plt.xlabel('Epochs')\n",
    "plt.ylabel('Accuracy')\n",
    "plt.legend(loc='lower right')"
   ]
  }
 ],
 "metadata": {
  "kernelspec": {
   "display_name": "Python 3.9.12 ('tf')",
   "language": "python",
   "name": "python3"
  },
  "language_info": {
   "codemirror_mode": {
    "name": "ipython",
    "version": 3
   },
   "file_extension": ".py",
   "mimetype": "text/x-python",
   "name": "python",
   "nbconvert_exporter": "python",
   "pygments_lexer": "ipython3",
   "version": "3.9.12"
  },
  "orig_nbformat": 4,
  "vscode": {
   "interpreter": {
    "hash": "d6f07f10bbd904384622e2c81da346bac6398da26490ea76cc729ffb1c8c49fa"
   }
  }
 },
 "nbformat": 4,
 "nbformat_minor": 2
}
